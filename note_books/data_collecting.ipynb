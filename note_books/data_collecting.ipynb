{
 "cells": [
  {
   "cell_type": "markdown",
   "id": "aa62330f",
   "metadata": {},
   "source": [
    "# Download raw data"
   ]
  },
  {
   "cell_type": "code",
   "execution_count": 1,
   "id": "6fe625e1",
   "metadata": {},
   "outputs": [],
   "source": [
    "import sys\n",
    "sys.path.append(\"../\")\n",
    "\n",
    "# This forces Jupyter Notebook to reload the module instead of using the cached import\n",
    "import importlib\n",
    "\n",
    "from proj_mod import data_collecting\n",
    "importlib.reload(data_collecting); #Adding \";\" to suppress output."
   ]
  },
  {
   "cell_type": "code",
   "execution_count": 2,
   "id": "55649420",
   "metadata": {},
   "outputs": [
    {
     "name": "stderr",
     "output_type": "stream",
     "text": [
      "Downloading...\n",
      "From: https://drive.google.com/uc?id=1KWE3J0uU_sFIJnZ74Id3FDBcejELI7FD\n",
      "To: /home/ycoeusz/git/apziva/1_happy_customers/OAM6GH5slDAHadnQ/data/raw.csv\n",
      "100%|██████████| 1.91k/1.91k [00:00<00:00, 11.1MB/s]"
     ]
    },
    {
     "name": "stdout",
     "output_type": "stream",
     "text": [
      "Raw data downloaded in 1.7411 seconds.\n"
     ]
    },
    {
     "name": "stderr",
     "output_type": "stream",
     "text": [
      "\n"
     ]
    },
    {
     "data": {
      "text/plain": [
       "0"
      ]
     },
     "execution_count": 2,
     "metadata": {},
     "output_type": "execute_result"
    }
   ],
   "source": [
    "id=\"1KWE3J0uU_sFIJnZ74Id3FDBcejELI7FD\"\n",
    "store_path=\"../data/raw.csv\"\n",
    "data_collecting.collect_data(id=id,store_path=store_path) "
   ]
  }
 ],
 "metadata": {
  "kernelspec": {
   "display_name": "deep_learning_3_11_8",
   "language": "python",
   "name": "python3"
  },
  "language_info": {
   "codemirror_mode": {
    "name": "ipython",
    "version": 3
   },
   "file_extension": ".py",
   "mimetype": "text/x-python",
   "name": "python",
   "nbconvert_exporter": "python",
   "pygments_lexer": "ipython3",
   "version": "3.11.8"
  }
 },
 "nbformat": 4,
 "nbformat_minor": 5
}
