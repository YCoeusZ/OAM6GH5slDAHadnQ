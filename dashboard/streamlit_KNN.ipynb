{
 "cells": [
  {
   "cell_type": "markdown",
   "id": "be168a37",
   "metadata": {},
   "source": [
    "# Streamlit dashboard for KNN model "
   ]
  },
  {
   "cell_type": "markdown",
   "id": "181b8584",
   "metadata": {},
   "source": [
    "Run this file to see the dashboard in your browser. DO NOT forget to stop the code when you are done!"
   ]
  },
  {
   "cell_type": "code",
   "execution_count": null,
   "id": "fe0367de",
   "metadata": {},
   "outputs": [],
   "source": [
    "! streamlit run streamlit_KNN.py;"
   ]
  }
 ],
 "metadata": {
  "kernelspec": {
   "display_name": "deep_learning_3_11_8",
   "language": "python",
   "name": "python3"
  },
  "language_info": {
   "name": "python",
   "version": "3.11.8"
  }
 },
 "nbformat": 4,
 "nbformat_minor": 5
}
