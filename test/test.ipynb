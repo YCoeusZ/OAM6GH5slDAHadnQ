{
 "cells": [
  {
   "cell_type": "markdown",
   "id": "ac46e88c",
   "metadata": {},
   "source": [
    "# Test with preferred model "
   ]
  },
  {
   "cell_type": "markdown",
   "id": "95a8d860",
   "metadata": {},
   "source": [
    "This notebook implement the KNN model with 5 neighbors, using raw features X1, X3, X4, and X6, and only selecting X1, X6, F_w_mean for training. "
   ]
  },
  {
   "cell_type": "code",
   "execution_count": 1,
   "id": "dda5c4f2",
   "metadata": {},
   "outputs": [],
   "source": [
    "import pandas as pd \n",
    "import numpy as np\n",
    "from sklearn.model_selection import train_test_split, RepeatedStratifiedKFold\n",
    "from sklearn.feature_selection import f_classif\n",
    "import itertools\n",
    "import sys\n",
    "import importlib\n",
    "from sklearn.pipeline import Pipeline\n",
    "from sklearn.preprocessing import StandardScaler, PolynomialFeatures\n",
    "from sklearn.neighbors import KNeighborsClassifier, NeighborhoodComponentsAnalysis \n",
    "from sklearn.metrics import classification_report, confusion_matrix, accuracy_score, f1_score, make_scorer\n",
    "from joblib import Parallel, delayed, parallel_backend\n",
    "from threadpoolctl import threadpool_limits\n",
    "import matplotlib.pylab as plt\n",
    "import os\n",
    "from sklearn.inspection import permutation_importance\n",
    "from scipy.stats import norm, t\n",
    "\n",
    "sys.path.append(\"../\")\n",
    "from proj_mod import training\n",
    "importlib.reload(training);"
   ]
  },
  {
   "cell_type": "markdown",
   "id": "96eafe42",
   "metadata": {},
   "source": [
    "## Set path to train and test data "
   ]
  },
  {
   "cell_type": "code",
   "execution_count": null,
   "id": "5c88e2ce",
   "metadata": {},
   "outputs": [],
   "source": [
    "str_train_data=\"../data/raw.csv\" #String path to the train data: Change this if there is another train set to be used instead. \n",
    "str_test_data=\"../data/test.csv\" #String path to the test data: This is a place-holder sting, please adjust before running. "
   ]
  },
  {
   "cell_type": "code",
   "execution_count": null,
   "id": "83232193",
   "metadata": {},
   "outputs": [],
   "source": [
    "#Set raw features used \n",
    "features=[\"X1\",\"X3\",\"X4\",\"X6\"] \n",
    "#Set target \n",
    "target=[\"Y\"] \n",
    "\n",
    "#Create train dataframe\n",
    "df_train=pd.read_csv(str_train_data) \n",
    "feat_train=df_train[features]\n",
    "tar_train=np.ravel(df_train[target].values)\n",
    "\n",
    "#Create test dataframe\n",
    "df_test=pd.read_csv(str_test_data) \n",
    "feat_test=df_test[features]\n",
    "tar_test=np.ravel(df_test[target].values)"
   ]
  },
  {
   "cell_type": "markdown",
   "id": "ca73f01b",
   "metadata": {},
   "source": [
    "## Create pipeline "
   ]
  },
  {
   "cell_type": "code",
   "execution_count": null,
   "id": "24045ab5",
   "metadata": {},
   "outputs": [],
   "source": [
    "#Set hyper-parameters \n",
    "force=[\"X1\",\"X6\",\"F_w_mean\"] \n",
    "nn=5 \n",
    "\n",
    "#Initiate pipeline \n",
    "pipe=Pipeline([\n",
    "    (\"DataCreate\", training.data_creator()),\n",
    "    (\"DataSelector\", training.data_selector(force=force)),\n",
    "    (\"scale\",StandardScaler()),\n",
    "    (\"KNN\",KNeighborsClassifier(n_neighbors=nn))]\n",
    ")"
   ]
  },
  {
   "cell_type": "markdown",
   "id": "0802dd83",
   "metadata": {},
   "source": [
    "## Train and predict "
   ]
  },
  {
   "cell_type": "code",
   "execution_count": null,
   "id": "9a291ea2",
   "metadata": {},
   "outputs": [],
   "source": [
    "#Train \n",
    "pipe.fit(X=feat_train,y=tar_train)\n",
    "\n",
    "#Predict\n",
    "tar_pred=pipe.predict(X=feat_test)"
   ]
  },
  {
   "cell_type": "markdown",
   "id": "8eb5140e",
   "metadata": {},
   "source": [
    "## Evaluation "
   ]
  },
  {
   "cell_type": "code",
   "execution_count": null,
   "id": "f40ba0b9",
   "metadata": {},
   "outputs": [],
   "source": [
    "#Accuracy score \n",
    "acc=accuracy_score(y_pred=tar_pred,y_true=tar_test)\n",
    "\n",
    "#f1 Score \n",
    "f1=f1_score(y_pred=tar_pred,y_true=tar_test)\n",
    "\n",
    "#Confusion matrix \n",
    "cmatrix=confusion_matrix(y_pred=tar_pred,y_true=tar_test)\n",
    "\n",
    "#Classification report \n",
    "creport=classification_report(y_pred=tar_pred,y_true=tar_test)"
   ]
  },
  {
   "cell_type": "code",
   "execution_count": null,
   "id": "83b3f564",
   "metadata": {},
   "outputs": [],
   "source": [
    "acc"
   ]
  },
  {
   "cell_type": "code",
   "execution_count": null,
   "id": "20a7321a",
   "metadata": {},
   "outputs": [],
   "source": [
    "f1"
   ]
  },
  {
   "cell_type": "code",
   "execution_count": null,
   "id": "94dc5fe7",
   "metadata": {},
   "outputs": [],
   "source": [
    "cmatrix"
   ]
  },
  {
   "cell_type": "code",
   "execution_count": null,
   "id": "95380118",
   "metadata": {},
   "outputs": [],
   "source": [
    "creport"
   ]
  }
 ],
 "metadata": {
  "kernelspec": {
   "display_name": "deep_learning_3_11_8",
   "language": "python",
   "name": "python3"
  },
  "language_info": {
   "codemirror_mode": {
    "name": "ipython",
    "version": 3
   },
   "file_extension": ".py",
   "mimetype": "text/x-python",
   "name": "python",
   "nbconvert_exporter": "python",
   "pygments_lexer": "ipython3",
   "version": "3.11.8"
  }
 },
 "nbformat": 4,
 "nbformat_minor": 5
}
